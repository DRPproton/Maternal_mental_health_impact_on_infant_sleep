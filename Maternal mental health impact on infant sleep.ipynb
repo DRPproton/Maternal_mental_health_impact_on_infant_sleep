{
 "cells": [
  {
   "cell_type": "markdown",
   "id": "7caeea13",
   "metadata": {},
   "source": [
    "> This dataset is a great resource for researchers and professionals looking to investigate the impact of maternal mental health difficulties on infant sleep. It includes 410 mothers of infants aged between 3 to 12 months old, providing invaluable insights into this important area.\n",
    "\n",
    "> The data covers a variety of topics, including sociodemographic data (e.g., maternal age, marital status, and educational level) as well as maternal mental health data (such as CB-PTSD, depression and anxiety) and infant sleep patterns (e.g., duration and number of night awakenings).\n",
    "\n",
    "> In order to make the most out of this dataset researchers can use various analytical tools such as descriptive statistics or regression models in order to study different aspects such as the association between sociodemographics or mental health difficulty with regards to infant sleep duration or quality. Additionally, potential mediators and moderators can be identified by studying specific subgroups within the sample in more depth or making comparisons with other datasets available online which measure similar variables.\n",
    "\n",
    "#### Using this dataset it will also be possible to gain further insight into key factors that might influence mothers' decisions when it comes to their children's sleeping habits (i.g., whether they should share the same bed with their baby)\n",
    "\n",
    "- Investigating the relationship between maternal mental health difficulties,\n",
    "    such as postpartum depression and anxiety, and infant sleep patterns.\n",
    "- Examining the role of mediators, such as sociodemographic characteristics (age, education level) in moderating\n",
    "    the relationship between maternal mental health difficulty and infant’s sleep patterns.\n",
    "- Investigating how various factors (e.g., maternal age, gender of the baby, etc.) affect infants’ sleeping habits\n",
    "    and quality of sleep throughout infancy up to one-year-old infancy stages by analyzing changes in certain variables\n",
    "    across all months included in this dataset\n",
    "\n",
    "\n",
    "> - Data authors <br>\n",
    ">  This dataset is related to: Sandoz, V.; Lacroix, A.; Stuijfzand, S.; Bickle Graz, M.; Horsch, A.\n",
    ">  Maternal Mental Health Symptom Profiles and Infant Sleep: A Cross-Sectional Survey. Diagnostics 2022, 12, 1625.\n",
    "\n",
    "https://doi.org/10.3390/diagnostics12071625.\n",
    "\n",
    "https://zenodo.org/record/5070945#.Y8OqatJBwUE"
   ]
  },
  {
   "cell_type": "markdown",
   "id": "c841fb68",
   "metadata": {},
   "source": [
    "### Importing libraries for the analysis"
   ]
  },
  {
   "cell_type": "code",
   "execution_count": null,
   "id": "977a5043",
   "metadata": {},
   "outputs": [],
   "source": [
    "import pandas as pd\n",
    "import numpy as np\n",
    "import matplotlib.pyplot as plt\n",
    "import seaborn as sns"
   ]
  },
  {
   "cell_type": "markdown",
   "id": "c92c871a",
   "metadata": {},
   "source": [
    "### Importing dataset from a csv file"
   ]
  },
  {
   "cell_type": "code",
   "execution_count": null,
   "id": "588f3025",
   "metadata": {},
   "outputs": [],
   "source": [
    "df = pd.read_csv('Dataset_maternal_mental_health_infant_sleep.csv', encoding = 'unicode_escape')"
   ]
  },
  {
   "cell_type": "markdown",
   "id": "67f376dd",
   "metadata": {},
   "source": [
    "> This line of code on the cell below will helps to display all rows and columns on the DataFrame "
   ]
  },
  {
   "cell_type": "code",
   "execution_count": null,
   "id": "e6a56ae4",
   "metadata": {},
   "outputs": [],
   "source": [
    "pd.set_option('display.max_rows', None)\n",
    "pd.set_option('display.max_columns', None)"
   ]
  },
  {
   "cell_type": "markdown",
   "id": "012f8aec",
   "metadata": {},
   "source": [
    "#### Exploring the shape of the DataFrame"
   ]
  },
  {
   "cell_type": "code",
   "execution_count": null,
   "id": "0f3b0b2e",
   "metadata": {},
   "outputs": [],
   "source": [
    "df.shape"
   ]
  },
  {
   "cell_type": "code",
   "execution_count": null,
   "id": "1a5298df",
   "metadata": {
    "scrolled": true
   },
   "outputs": [],
   "source": [
    "df.info()"
   ]
  },
  {
   "cell_type": "markdown",
   "id": "bb25d0d7",
   "metadata": {},
   "source": [
    "> All columns of the DataFrame but 1 have numerial values. Because almost all the columns are answers to a survey question those columns data types will need to be changed."
   ]
  },
  {
   "cell_type": "markdown",
   "id": "baff13a6",
   "metadata": {},
   "source": [
    "##### Example of the Data and summary stats"
   ]
  },
  {
   "cell_type": "code",
   "execution_count": null,
   "id": "b0042d78",
   "metadata": {
    "scrolled": true
   },
   "outputs": [],
   "source": [
    "df.head(10)"
   ]
  },
  {
   "cell_type": "code",
   "execution_count": null,
   "id": "81e8d380",
   "metadata": {},
   "outputs": [],
   "source": [
    "df.describe().style.background_gradient()"
   ]
  },
  {
   "cell_type": "markdown",
   "id": "97c2e6af",
   "metadata": {},
   "source": [
    "### Variable exploration. \n",
    "#### Check or unique values for every column"
   ]
  },
  {
   "cell_type": "code",
   "execution_count": null,
   "id": "0ea2a36e",
   "metadata": {
    "scrolled": true
   },
   "outputs": [],
   "source": [
    "df.nunique()"
   ]
  },
  {
   "cell_type": "code",
   "execution_count": null,
   "id": "14600e93",
   "metadata": {
    "scrolled": true
   },
   "outputs": [],
   "source": [
    "for col in df.columns:\n",
    "    if col not in ['Participant_number', 'Gestationnal_age', 'Age']:\n",
    "        print(f'{col} - {np.sort(df[col].unique())}')"
   ]
  },
  {
   "cell_type": "markdown",
   "id": "898c1308",
   "metadata": {},
   "source": [
    "#### Marital_status\n",
    "- 1 = single; 2 = in a relationship; 3 = separated, divorced or widow; 6 = other. \n",
    "#### Marital_status_edit\n",
    "- 1 = single; 2 = in a relationship; 3 = separated, divorced or widow."
   ]
  },
  {
   "cell_type": "markdown",
   "id": "c4ea6abf",
   "metadata": {},
   "source": [
    "> - Participant_number column has 1 value per row. This column will be dropped due that do not add value to our data\n",
    "> - Type_parents, Birth_1mth_M_inclusion, Birth_12mth_M_inclusion and Child_survey_participation columns have 1 value per row. This columns will be dropped due that do not add value to our data \n",
    "> - Marital_status will be dropped"
   ]
  },
  {
   "cell_type": "code",
   "execution_count": null,
   "id": "60d166f0",
   "metadata": {},
   "outputs": [],
   "source": [
    "df.drop(columns=['Participant_number', 'Type_parents', 'Birth_1mth_M_inclusion',\n",
    "                     'Birth_12mth_M_inclusion', 'Marital_status', 'Child_survey_participation'], inplace=True)"
   ]
  },
  {
   "cell_type": "code",
   "execution_count": null,
   "id": "49fc8209",
   "metadata": {
    "scrolled": true
   },
   "outputs": [],
   "source": [
    "df.nunique()"
   ]
  },
  {
   "cell_type": "markdown",
   "id": "be850afb",
   "metadata": {},
   "source": [
    "### Checking for Null Values"
   ]
  },
  {
   "cell_type": "code",
   "execution_count": null,
   "id": "0c6100f6",
   "metadata": {
    "scrolled": true
   },
   "outputs": [],
   "source": [
    "df.isnull().sum() "
   ]
  },
  {
   "cell_type": "markdown",
   "id": "69d9d5f5",
   "metadata": {},
   "source": [
    "## Imputing values on the \n",
    "### Very Short Form of the Infant Behavior Questionnaire-Revised (Negative Emotionality dimension) columns"
   ]
  },
  {
   "cell_type": "code",
   "execution_count": null,
   "id": "17fffc47",
   "metadata": {
    "scrolled": true
   },
   "outputs": [],
   "source": [
    "# Getting the percentage of null values\n",
    "df.isnull().sum() / df.shape[0] * 100"
   ]
  },
  {
   "cell_type": "markdown",
   "id": "2b5e1c43-158d-44df-afd4-fd545c4b0b45",
   "metadata": {},
   "source": [
    "### Making dataframes for each test (CBTS, EPDS, HADS and IBQ_R)"
   ]
  },
  {
   "cell_type": "code",
   "execution_count": null,
   "id": "6567471e-3985-4c6f-8f23-40a465a1b7c8",
   "metadata": {},
   "outputs": [],
   "source": [
    "df_cbts = df.loc[:, 'CBTS_M_3': 'CBTS_22']\n",
    "df_epds = df.loc[:, 'EPDS_1': 'EPDS_10']\n",
    "df_hads = df.loc[:, 'HADS_1': 'HADS_13']\n",
    "df_ibq_r = df.loc[:, 'IBQ_R_VSF_3_bb1': 'IBQ_R_VSF_33_bb1']"
   ]
  },
  {
   "cell_type": "code",
   "execution_count": null,
   "id": "02dce66c-0a39-414c-a494-ac79eaaa39e5",
   "metadata": {},
   "outputs": [],
   "source": [
    "df_no_q = df.loc[:, ['Age', 'Marital_status_edit', 'Education', 'Gestationnal_age', 'Type_pregnancy',\n",
    "        'sex_baby1', 'Age_bb', 'Sleep_night_duration_bb1', 'night_awakening_number_bb1', 'how_falling_asleep_bb1']]"
   ]
  },
  {
   "cell_type": "markdown",
   "id": "c5af3509-ac55-4343-b48e-3ecea0c2a126",
   "metadata": {},
   "source": [
    "##"
   ]
  },
  {
   "cell_type": "markdown",
   "id": "56e31597",
   "metadata": {},
   "source": [
    "- Columns \"IBQ_R_VSF_28_bb1\" , \"IBQ_R_VSF_33_bb1\" are related \n",
    "> - 28 - When you introduced him/her to an adult he/she did not know, how often did your baby refuse to go to this unknown person?\n",
    "> - 33 - When he/she was in the presence of several unfamiliar adults, how often did your baby cling to a parent?"
   ]
  },
  {
   "cell_type": "markdown",
   "id": "fccea2c0",
   "metadata": {},
   "source": [
    "#### KNNImputer \n",
    "> KNNImputer is a popular method for imputing missing values in datasets. It works by finding the k nearest neighbors of each observation with missing values and then imputing the missing values with the mean value of those neighbors. This method is relatively robust to outliers and can be used to impute missing values in both numerical and categorical data.\n",
    "> KNNImputer is a powerful and versatile method for imputing missing values in datasets. It is relatively robust to outliers and can be used to impute missing values in both numerical and categorical data. However, it can be computationally expensive, and the choice of k can affect the results\n",
    "#### Why to use KNNImputer ?\n",
    "- It preserves the distribution of the data. When you impute missing values with the mean or median, you are essentially assuming that the missing values are distributed the same way as the observed values. This may not always be the case, and using KNNImputer can help to preserve the true distribution of the data"
   ]
  },
  {
   "cell_type": "code",
   "execution_count": null,
   "id": "39fbb9cb",
   "metadata": {},
   "outputs": [],
   "source": [
    "from sklearn.impute import KNNImputer"
   ]
  },
  {
   "cell_type": "code",
   "execution_count": null,
   "id": "789a4890",
   "metadata": {},
   "outputs": [],
   "source": [
    "# Function to impute columns for dataframes\n",
    "def column_knn_imputer(df):\n",
    "    imputer = KNNImputer()\n",
    "    columns_to_impute = list(df.columns[df.isnull().any()])\n",
    "    \n",
    "    df_imputed = df.copy(deep=True)\n",
    "    # Impute using fit_transform on the df_imputed\n",
    "    df_imputed.loc[:, columns_to_impute] = imputer.fit_transform(df.loc[:, columns_to_impute])\n",
    "    \n",
    "    return df_imputed"
   ]
  },
  {
   "cell_type": "code",
   "execution_count": null,
   "id": "792c2d31",
   "metadata": {},
   "outputs": [],
   "source": [
    "df_data = column_knn_imputer(df)"
   ]
  },
  {
   "cell_type": "code",
   "execution_count": null,
   "id": "06540566",
   "metadata": {},
   "outputs": [],
   "source": [
    "df_data.isnull().sum().sum()"
   ]
  },
  {
   "cell_type": "code",
   "execution_count": null,
   "id": "f70f87a9",
   "metadata": {
    "scrolled": true
   },
   "outputs": [],
   "source": [
    "df_data.info()"
   ]
  },
  {
   "cell_type": "code",
   "execution_count": null,
   "id": "e241a65b",
   "metadata": {},
   "outputs": [],
   "source": [
    "for col in ['IBQ_R_VSF_3_bb1', 'IBQ_R_VSF_4_bb1','IBQ_R_VSF_9_bb1', 'IBQ_R_VSF_10_bb1', \n",
    "            'IBQ_R_VSF_16_bb1', 'IBQ_R_VSF_17_bb1', 'IBQ_R_VSF_28_bb1', 'IBQ_R_VSF_29_bb1',\n",
    "            'IBQ_R_VSF_32_bb1', 'IBQ_R_VSF_33_bb1']:\n",
    "    df_data[col] = df_data[col].astype('int')"
   ]
  },
  {
   "cell_type": "code",
   "execution_count": null,
   "id": "a88bd7f1",
   "metadata": {
    "scrolled": true
   },
   "outputs": [],
   "source": [
    "df_data.info()"
   ]
  },
  {
   "cell_type": "code",
   "execution_count": null,
   "id": "63a940a1",
   "metadata": {
    "scrolled": true
   },
   "outputs": [],
   "source": [
    "for col in df_data.columns:\n",
    "    if col not in ['Participant_number', 'Gestationnal_age', 'Age']:\n",
    "        print(f'{col} - {np.sort(df_data[col].unique())}')"
   ]
  },
  {
   "cell_type": "markdown",
   "id": "776e9b74",
   "metadata": {},
   "source": [
    "### Histogram of the data set"
   ]
  },
  {
   "cell_type": "code",
   "execution_count": null,
   "id": "135c2301",
   "metadata": {
    "scrolled": true
   },
   "outputs": [],
   "source": [
    "df_data.hist(figsize=(20,25));"
   ]
  },
  {
   "cell_type": "markdown",
   "id": "cc3b0822",
   "metadata": {},
   "source": [
    "### Convert columns to category due that values are answer to questions"
   ]
  },
  {
   "cell_type": "code",
   "execution_count": null,
   "id": "4d40a4c9",
   "metadata": {},
   "outputs": [],
   "source": [
    "for col in df_data.columns:\n",
    "    if col not in ['Age', 'Gestationnal_age', 'night_awakening_number_bb1']:\n",
    "        df_data[col] = df_data[col]\n",
    "        df_data[col] = df_data[col].astype('category')"
   ]
  },
  {
   "cell_type": "code",
   "execution_count": null,
   "id": "829e4e9a",
   "metadata": {
    "scrolled": true
   },
   "outputs": [],
   "source": [
    "df_data.info()"
   ]
  },
  {
   "cell_type": "markdown",
   "id": "81cd54ff",
   "metadata": {},
   "source": [
    "### Replacing values on columns"
   ]
  },
  {
   "cell_type": "code",
   "execution_count": null,
   "id": "9ea63f40",
   "metadata": {},
   "outputs": [],
   "source": [
    "# 1 => single (s), 2 => in a relationship (r),  3 => separated-divorced-widow (sep-d-w)\n",
    "\n",
    "# Updating column names for the question variables\n",
    "df_data.Marital_status_edit = df_data.Marital_status_edit.replace({1: 's', 2: 'r', 3: 'sep-d-w'})"
   ]
  },
  {
   "cell_type": "code",
   "execution_count": null,
   "id": "b9016f4d-71bb-4ea3-af64-6a7e4ced1f0f",
   "metadata": {},
   "outputs": [],
   "source": [
    "#  1 => single pregnance; 2 => twin pregnancy\n",
    "\n",
    "df_data.Type_pregnancy = df_data.Type_pregnancy.replace({1: 'signle', 2: 'twin'})"
   ]
  },
  {
   "cell_type": "code",
   "execution_count": null,
   "id": "364b6078-edb8-48b3-a886-ad514611ca0d",
   "metadata": {},
   "outputs": [],
   "source": [
    "# 1 => ≥3 months to <6 months; 2 => ≥6 months to <9 months; 3 => ≥9 months to <12 months\n",
    "\n",
    "df_data.Age_bb = df_data.Age_bb.replace({1 : '3m to <m6', 2: '6m to <9m', 3: '9m to <12m'})"
   ]
  },
  {
   "cell_type": "code",
   "execution_count": null,
   "id": "d416970f-3103-41d5-94f3-ddb725847bf2",
   "metadata": {},
   "outputs": [],
   "source": [
    "# 1 = while being fed; 2 =while being rocked; 3 = while being held; 4 = alone in the crib; 5 =in the crib with parental presence\n",
    "\n",
    "df_data.how_falling_asleep_bb1 = df_data.how_falling_asleep_bb1.replace({1: 'while being fed', 2: 'while being rocked',\n",
    "                                                                         3: 'while being held', 4: 'alone in the crib',\n",
    "                                                                         5: 'in the crib with parental presence'})"
   ]
  },
  {
   "cell_type": "code",
   "execution_count": null,
   "id": "0722a516",
   "metadata": {},
   "outputs": [],
   "source": [
    "# 1 => no education (n_e), 2 => high school (h_s), 3 => some university (s_U), \n",
    "# 4 => associate, certificate or Technology Degree (a_c_t), 5 => university (U)\n",
    "\n",
    "df_data.Education = df_data.Education.replace({1: 'n_e', 2: 'h_s', 3: 's_U', 4: 'a_c_t', 5: 'U'})"
   ]
  },
  {
   "cell_type": "code",
   "execution_count": null,
   "id": "b110245c",
   "metadata": {},
   "outputs": [],
   "source": [
    "df_data.sex_baby1 = df_data.sex_baby1.replace({1: 'girl', 2: 'boy'})"
   ]
  },
  {
   "cell_type": "code",
   "execution_count": null,
   "id": "64bb4a46",
   "metadata": {},
   "outputs": [],
   "source": [
    "# Renaming a single column\n",
    "df_data = df_data.rename(columns={'Marital_status_edit': 'Marital_status',\n",
    "                                 'sex_baby1': 'Sex'})"
   ]
  },
  {
   "cell_type": "markdown",
   "id": "92c234fe",
   "metadata": {},
   "source": [
    "### EDA Summary Stats"
   ]
  },
  {
   "cell_type": "markdown",
   "id": "dec0ba2a",
   "metadata": {},
   "source": [
    "#### Numerical values"
   ]
  },
  {
   "cell_type": "code",
   "execution_count": null,
   "id": "292de10d",
   "metadata": {},
   "outputs": [],
   "source": [
    "# Function to get summary stats\n",
    "def get_summary_stats_by_columns(df):\n",
    "    column_name = df.columns\n",
    "    new_df = pd.DataFrame(index=['Data type', 'Min', '25%', '50%', '75%','Max', 'Mean', 'Median', 'Mode', 'STD', 'Skewness', 'Kurtosis', 'Count'])\n",
    "    for col in column_name:\n",
    "        if pd.api.types.is_numeric_dtype(df[col]):\n",
    "            new_df[col.upper()] = [df[col].dtype, df[col].min(), df[col].quantile(.25), df[col].quantile(.5), df[col].quantile(.75),df[col].max(), df[col].mean(), df[col].median(),\n",
    "                                   df[col].mode()[0], df[col].std(), df[col].skew(), df[col].kurt() , df[col].count()]\n",
    "    return new_df"
   ]
  },
  {
   "cell_type": "code",
   "execution_count": null,
   "id": "36bb8216",
   "metadata": {
    "scrolled": true
   },
   "outputs": [],
   "source": [
    "get_summary_stats_by_columns(df_data)"
   ]
  },
  {
   "cell_type": "code",
   "execution_count": null,
   "id": "30f3f454",
   "metadata": {
    "scrolled": true
   },
   "outputs": [],
   "source": [
    "df_data.hist(figsize=(6,6));"
   ]
  },
  {
   "cell_type": "markdown",
   "id": "47fe22c4",
   "metadata": {},
   "source": [
    "#### Categorical values"
   ]
  },
  {
   "cell_type": "code",
   "execution_count": null,
   "id": "5d609c8d",
   "metadata": {},
   "outputs": [],
   "source": [
    "df_data.describe(exclude='number')"
   ]
  },
  {
   "cell_type": "code",
   "execution_count": null,
   "id": "4b2b6750",
   "metadata": {},
   "outputs": [],
   "source": [
    "cat_column_list = ['Marital_status', 'Education', 'Type_pregnancy', 'Sex', 'Age_bb',\n",
    "            'CBTS_M_3', 'CBTS_M_4', 'CBTS_M_5', 'CBTS_M_6', 'CBTS_M_7', 'CBTS_M_8', 'CBTS_M_9', \n",
    "            'CBTS_M_10', 'CBTS_M_11', 'CBTS_M_12', 'CBTS_13', 'CBTS_14', 'CBTS_15', 'CBTS_16',\n",
    "            'CBTS_17', 'CBTS_18', 'CBTS_19', 'CBTS_20', 'CBTS_21', 'CBTS_22',\n",
    "            'EPDS_1', 'EPDS_2', 'EPDS_3', 'EPDS_4', 'EPDS_5', 'EPDS_6', 'EPDS_7',\n",
    "            'EPDS_8', 'EPDS_9', 'EPDS_10', 'HADS_1', 'HADS_3', 'HADS_5', 'HADS_7',\n",
    "            'HADS_9', 'HADS_11', 'HADS_13']\n",
    "len(cat_column_list)"
   ]
  },
  {
   "cell_type": "code",
   "execution_count": null,
   "id": "15fb7ef2",
   "metadata": {},
   "outputs": [],
   "source": [
    "fig, ax = plt.subplots(nrows = 14, ncols = 3, figsize =(15,70))\n",
    "fig.tight_layout(pad=6.0)\n",
    "i = 0\n",
    "for row in range(14):\n",
    "    for col in range(3):\n",
    "        g = sns.countplot(x=cat_column_list[i], data=df_data, ax = ax[row,col]);\n",
    "        g.set_xticklabels(g.get_xticklabels(), rotation=30)\n",
    "        for p in g.patches:\n",
    "            g.annotate('{:.0f}'.format(p.get_height()), (p.get_x()+0.15, p.get_height()+0.05))\n",
    "        i += 1\n",
    "plt.show()"
   ]
  },
  {
   "cell_type": "code",
   "execution_count": null,
   "id": "1e07b2f2",
   "metadata": {},
   "outputs": [],
   "source": [
    "cat_column_list_2 = ['Age_bb', 'IBQ_R_VSF_3_bb1', 'IBQ_R_VSF_4_bb1','IBQ_R_VSF_9_bb1', 'IBQ_R_VSF_10_bb1', \n",
    "                     'IBQ_R_VSF_16_bb1', 'IBQ_R_VSF_17_bb1', 'IBQ_R_VSF_28_bb1', 'IBQ_R_VSF_29_bb1',\n",
    "                     'IBQ_R_VSF_32_bb1', 'IBQ_R_VSF_33_bb1', 'Sleep_night_duration_bb1']\n",
    "len(cat_column_list_2)"
   ]
  },
  {
   "cell_type": "code",
   "execution_count": null,
   "id": "e6896618",
   "metadata": {},
   "outputs": [],
   "source": [
    "fig, ax = plt.subplots(nrows = 4, ncols = 3, figsize =(15,20))\n",
    "fig.tight_layout(pad=6.0)\n",
    "i = 0\n",
    "for row in range(4):\n",
    "    for col in range(3):\n",
    "        g = sns.countplot(x=cat_column_list_2[i], data=df_data, ax = ax[row,col]);\n",
    "        g.set_xticklabels(g.get_xticklabels(), rotation=30)\n",
    "        for p in g.patches:\n",
    "            g.annotate('{:.0f}'.format(p.get_height()), (p.get_x()+0.15, p.get_height()+0.05))\n",
    "        i += 1\n",
    "plt.show()"
   ]
  },
  {
   "cell_type": "code",
   "execution_count": null,
   "id": "97bcd97d",
   "metadata": {},
   "outputs": [],
   "source": []
  }
 ],
 "metadata": {
  "kernelspec": {
   "display_name": "Python 3 (ipykernel)",
   "language": "python",
   "name": "python3"
  },
  "language_info": {
   "codemirror_mode": {
    "name": "ipython",
    "version": 3
   },
   "file_extension": ".py",
   "mimetype": "text/x-python",
   "name": "python",
   "nbconvert_exporter": "python",
   "pygments_lexer": "ipython3",
   "version": "3.9.6"
  }
 },
 "nbformat": 4,
 "nbformat_minor": 5
}
